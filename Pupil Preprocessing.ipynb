{
 "cells": [
  {
   "cell_type": "code",
   "execution_count": 28,
   "metadata": {},
   "outputs": [],
   "source": [
    "import pandas as pd\n",
    "import numpy as np\n",
    "pd.set_option('display.max_row',100)\n",
    "pd.set_option('display.max_column',100)"
   ]
  },
  {
   "cell_type": "code",
   "execution_count": 2,
   "metadata": {},
   "outputs": [],
   "source": [
    "%matplotlib inline\n",
    "import seaborn as sns; sns.set()\n",
    "import matplotlib.pyplot as plt"
   ]
  },
  {
   "cell_type": "markdown",
   "metadata": {},
   "source": [
    "# Pre-process Pupil Data"
   ]
  },
  {
   "cell_type": "code",
   "execution_count": 5,
   "metadata": {},
   "outputs": [],
   "source": [
    "from edfreader import read_edf\n",
    "from pupil_preprocess import deblink_pupil, remove_outliers, smooth_pupil, interpolate_pupil, downsample_pupil, baseline_correction"
   ]
  },
  {
   "cell_type": "code",
   "execution_count": 34,
   "metadata": {},
   "outputs": [],
   "source": [
    "path = 'data/_Forced_Response_scene_contrast_2022_Jul_26_1425.asc'\n",
    "data = read_edf(path, start='free fixation start', stop='free search end')\n",
    "data = pd.DataFrame(data)"
   ]
  },
  {
   "cell_type": "code",
   "execution_count": 39,
   "metadata": {},
   "outputs": [
    {
     "data": {
      "text/plain": [
       "{'Sfix': [526130, 526364, 527596, 527782, 528036, 528176],\n",
       " 'Ssac': [525950, 526356, 527568, 527758, 527994, 528166],\n",
       " 'Sblk': [525974],\n",
       " 'Efix': [[525038, 525948, 912, 773.7, 622.0],\n",
       "  [526130, 526354, 226, 746.8, 609.3],\n",
       "  [526364, 527566, 1204, 770.7, 603.1],\n",
       "  [527596, 527756, 162, 866.0, 731.0],\n",
       "  [527782, 527992, 212, 791.5, 589.7],\n",
       "  [528036, 528164, 130, 858.6, 931.4]],\n",
       " 'Esac': [[525950, 526128, 180, 769.8, 604.8, 737.8, 555.8],\n",
       "  [526356, 526362, 8, 748.1, 607.0, 768.4, 604.5],\n",
       "  [527568, 527594, 28, 774.6, 608.7, 868.3, 715.9],\n",
       "  [527758, 527780, 24, 861.3, 729.1, 804.3, 613.4],\n",
       "  [527994, 528034, 42, 792.3, 591.4, 863.3, 932.6],\n",
       "  [528166, 528174, 10, 858.1, 921.7, 860.4, 893.2]],\n",
       " 'Eblk': [[525974, 526082, 110]],\n",
       " 'msg': [[525551, 'free fixation start Block_0 Trial_0\\n'],\n",
       "  [527101, 'free fixation end Block_0 Trial_0\\n'],\n",
       "  [527175, 'free search start Block_0 Trial_0\\n']]}"
      ]
     },
     "execution_count": 39,
     "metadata": {},
     "output_type": "execute_result"
    }
   ],
   "source": [
    "data.events[0]"
   ]
  },
  {
   "cell_type": "code",
   "execution_count": 118,
   "metadata": {
    "scrolled": true
   },
   "outputs": [
    {
     "name": "stdout",
     "output_type": "stream",
     "text": [
      "loading subject 1\n",
      "......extracting data\n",
      "......deblinking\n",
      "......removing outliers\n",
      "......smoothing\n",
      "......interpolating\n",
      "......downsampling\n",
      "Done!\n",
      "\n",
      "loading subject 0\n",
      "......extracting data\n",
      "......deblinking\n",
      "......removing outliers\n",
      "......smoothing\n",
      "......interpolating\n",
      "......downsampling\n",
      "Done!\n",
      "\n",
      "loading subject 2\n",
      "......extracting data\n",
      "......deblinking\n",
      "......removing outliers\n",
      "......smoothing\n",
      "......interpolating\n",
      "......downsampling\n",
      "Done!\n",
      "\n",
      "loading subject 3\n",
      "......extracting data\n",
      "......deblinking\n",
      "......removing outliers\n",
      "......smoothing\n",
      "......interpolating\n",
      "......downsampling\n",
      "Done!\n",
      "\n",
      "loading subject 5\n",
      "......extracting data\n",
      "......deblinking\n",
      "......removing outliers\n",
      "......smoothing\n",
      "......interpolating\n",
      "......downsampling\n",
      "Done!\n",
      "\n",
      "loading subject 20\n",
      "......extracting data\n",
      "......deblinking\n",
      "......removing outliers\n",
      "......smoothing\n",
      "......interpolating\n",
      "......downsampling\n",
      "Done!\n",
      "\n",
      "loading subject 21\n",
      "......extracting data\n",
      "......deblinking\n",
      "......removing outliers\n",
      "......smoothing\n",
      "......interpolating\n",
      "......downsampling\n",
      "Done!\n",
      "\n",
      "loading subject 6\n",
      "......extracting data\n",
      "......deblinking\n",
      "......removing outliers\n",
      "......smoothing\n",
      "......interpolating\n",
      "......downsampling\n",
      "Done!\n",
      "\n",
      "loading subject 9\n",
      "......extracting data\n",
      "......deblinking\n",
      "......removing outliers\n",
      "......smoothing\n",
      "......interpolating\n",
      "......downsampling\n",
      "Done!\n",
      "\n",
      "loading subject 8\n",
      "......extracting data\n",
      "......deblinking\n",
      "......removing outliers\n",
      "......smoothing\n",
      "......interpolating\n",
      "......downsampling\n",
      "Done!\n",
      "\n",
      "loading subject 10\n",
      "......extracting data\n",
      "......deblinking\n",
      "......removing outliers\n",
      "......smoothing\n",
      "......interpolating\n",
      "......downsampling\n",
      "Done!\n",
      "\n",
      "loading subject 12\n",
      "......extracting data\n",
      "......deblinking\n",
      "......removing outliers\n",
      "......smoothing\n",
      "......interpolating\n",
      "......downsampling\n",
      "Done!\n",
      "\n",
      "loading subject 14\n",
      "......extracting data\n",
      "......deblinking\n",
      "......removing outliers\n",
      "......smoothing\n",
      "......interpolating\n",
      "......downsampling\n",
      "Done!\n",
      "\n",
      "loading subject 13\n",
      "......extracting data\n",
      "......deblinking\n",
      "......removing outliers\n",
      "......smoothing\n",
      "......interpolating\n",
      "......downsampling\n",
      "Done!\n",
      "\n",
      "loading subject 16\n",
      "......extracting data\n",
      "......deblinking\n",
      "......removing outliers\n",
      "......smoothing\n",
      "......interpolating\n",
      "......downsampling\n",
      "Done!\n",
      "\n",
      "loading subject 17\n",
      "......extracting data\n",
      "......deblinking\n",
      "......removing outliers\n",
      "......smoothing\n",
      "......interpolating\n",
      "......downsampling\n",
      "Done!\n",
      "\n",
      "loading subject 18\n",
      "......extracting data\n",
      "......deblinking\n",
      "......removing outliers\n",
      "......smoothing\n",
      "......interpolating\n",
      "......downsampling\n",
      "Done!\n",
      "\n",
      "loading subject 19\n",
      "......extracting data\n",
      "......deblinking\n",
      "......removing outliers\n",
      "......smoothing\n",
      "......interpolating\n",
      "......downsampling\n",
      "Done!\n",
      "\n",
      "loading subject 23\n",
      "......extracting data\n",
      "......deblinking\n",
      "......removing outliers\n",
      "......smoothing\n",
      "......interpolating\n",
      "......downsampling\n",
      "Done!\n",
      "\n",
      "loading subject 22\n",
      "......extracting data\n",
      "......deblinking\n",
      "......removing outliers\n",
      "......smoothing\n",
      "......interpolating\n",
      "......downsampling\n",
      "Done!\n",
      "\n",
      "loading subject 26\n",
      "......extracting data\n",
      "......deblinking\n",
      "......removing outliers\n",
      "......smoothing\n",
      "......interpolating\n",
      "......downsampling\n",
      "Done!\n",
      "\n",
      "loading subject 25\n",
      "......extracting data\n",
      "......deblinking\n",
      "......removing outliers\n",
      "......smoothing\n",
      "......interpolating\n",
      "......downsampling\n",
      "Done!\n",
      "\n",
      "loading subject 24\n",
      "......extracting data\n",
      "......deblinking\n",
      "......removing outliers\n",
      "......smoothing\n",
      "......interpolating\n",
      "......downsampling\n",
      "Done!\n",
      "\n",
      "loading subject 30\n",
      "......extracting data\n",
      "......deblinking\n",
      "......removing outliers\n",
      "......smoothing\n",
      "......interpolating\n",
      "......downsampling\n",
      "Done!\n",
      "\n",
      "loading subject 28\n",
      "......extracting data\n",
      "......deblinking\n",
      "......removing outliers\n",
      "......smoothing\n",
      "......interpolating\n",
      "......downsampling\n",
      "Done!\n",
      "\n",
      "loading subject 27\n",
      "......extracting data\n",
      "......deblinking\n",
      "......removing outliers\n",
      "......smoothing\n",
      "......interpolating\n",
      "......downsampling\n",
      "Done!\n",
      "\n",
      "loading subject 29\n",
      "......extracting data\n",
      "......deblinking\n",
      "......removing outliers\n",
      "......smoothing\n",
      "......interpolating\n",
      "......downsampling\n",
      "Done!\n",
      "\n",
      "loading subject 31\n",
      "......extracting data\n",
      "......deblinking\n",
      "......removing outliers\n",
      "......smoothing\n",
      "......interpolating\n",
      "......downsampling\n",
      "Done!\n",
      "\n",
      "loading subject 33\n",
      "......extracting data\n",
      "......deblinking\n",
      "......removing outliers\n",
      "......smoothing\n",
      "......interpolating\n",
      "......downsampling\n",
      "Done!\n",
      "\n",
      "loading subject 34\n",
      "......extracting data\n",
      "......deblinking\n",
      "......removing outliers\n",
      "......smoothing\n",
      "......interpolating\n",
      "......downsampling\n",
      "Done!\n",
      "\n",
      "loading subject 38\n",
      "......extracting data\n",
      "......deblinking\n",
      "......removing outliers\n",
      "......smoothing\n",
      "......interpolating\n",
      "......downsampling\n",
      "Done!\n",
      "\n",
      "loading subject 37\n",
      "......extracting data\n",
      "......deblinking\n",
      "......removing outliers\n",
      "......smoothing\n",
      "......interpolating\n",
      "......downsampling\n",
      "Done!\n",
      "\n",
      "loading subject 35\n",
      "......extracting data\n",
      "......deblinking\n",
      "......removing outliers\n",
      "......smoothing\n",
      "......interpolating\n",
      "......downsampling\n",
      "Done!\n",
      "\n",
      "loading subject 39\n",
      "......extracting data\n",
      "......deblinking\n",
      "......removing outliers\n",
      "......smoothing\n",
      "......interpolating\n",
      "......downsampling\n",
      "Done!\n",
      "\n",
      "loading subject 41\n",
      "......extracting data\n",
      "......deblinking\n",
      "......removing outliers\n",
      "......smoothing\n",
      "......interpolating\n",
      "......downsampling\n",
      "Done!\n",
      "\n"
     ]
    }
   ],
   "source": [
    "from glob import glob\n",
    "from cili.util import *\n",
    "from pupil_preprocess import *\n",
    "\n",
    "samp_freq = 500\n",
    "trial_events = ['start_trial', 'end_trial','start_fixdot', 'end_fixdot','start_searcharray', 'end_searcharray']\n",
    "use_eye = 'left'\n",
    "\n",
    "eye_df = pd.DataFrame()\n",
    "eye_df_resamp = pd.DataFrame()\n",
    "\n",
    "for files in glob('Data//Experiment//*.asc'):\n",
    "    \n",
    "    # get subject nr\n",
    "    subject_nr = int(filter(str.isdigit, files))\n",
    "    \n",
    "    # load eyelink data\n",
    "    print 'loading subject %d' % subject_nr\n",
    "    samps, events = load_eyelink_dataset(files)\n",
    "    \n",
    "    # calculate correlaltion between eyes\n",
    "    #correlation_eye(samps, 'pup_l','pup_r')\n",
    "    \n",
    "    # select which eye to process\n",
    "    samps = select_eye(data=samps, use_eye = use_eye)\n",
    "    \n",
    "    # get event timestamp\n",
    "    trial_event_times = trial_events_from_cili(events.MSG, trial_events)\n",
    "    trial_event_times['twosec'] = trial_event_times.end_fixdot-2000\n",
    "    \n",
    "    # extract data\n",
    "    print '......extracting data'\n",
    "    extracted_samps = trial_event_times.groupby('trial_id').apply(select_data, \n",
    "                                                              eye_data = samps, \n",
    "                                                              start='start_fixdot', \n",
    "                                                              end='end_fixdot', \n",
    "                                                              align_on='start_fixdot').reset_index()\n",
    "    \n",
    "    # check signal loss\n",
    "    #print '......checking signal loss'\n",
    "    #extracted_samps = extracted_samps.groupby('trial_id').apply(check_tracking_loss, \n",
    "    #                                                            column='pup', \n",
    "    #                                                            threshold=.3, \n",
    "    #                                                            missing_indicator=0)\n",
    "    \n",
    "    # deblink\n",
    "    print '......deblinking'\n",
    "    deblink_samps = extracted_samps.groupby('trial_id').apply(deblink_pupil, column='pup', samp_freq=samp_freq)\n",
    "    \n",
    "    # remove outliers\n",
    "    print '......removing outliers'\n",
    "    rm_samps = deblink_samps.groupby('trial_id').apply(remove_outliers, \n",
    "                                                                column_pup='pup_deblink', \n",
    "                                                                column_x='x',column_y='y', \n",
    "                                                                left=459, right=565, top=331, bottom=437)\n",
    "    \n",
    "    # smooth\n",
    "    print '......smoothing'\n",
    "    smooth_samps = rm_samps.groupby('trial_id').apply(smooth_pupil, column='pup_deblink_rm')\n",
    "    \n",
    "    # interpolate\n",
    "    print '......interpolating'\n",
    "    interp_samps = smooth_samps.groupby('trial_id').apply(interpolate_pupil, column='pup_deblink_rm_smooth', method='linear')\n",
    "    \n",
    "    # downsample\n",
    "    print '......downsampling'\n",
    "    resamp_samps = interp_samps.groupby('trial_id').apply(downsample_pupil, \n",
    "                                                            pup_col='pup_deblink_rm_smooth_interp',\n",
    "                                                            time_col = 'onset_aligned',\n",
    "                                                            bin_size='100ms').reset_index()\n",
    "    interp_samps['subject_nr'] = subject_nr\n",
    "    resamp_samps['subject_nr'] = subject_nr\n",
    "    \n",
    "    eye_df = eye_df.append(interp_samps)\n",
    "    eye_df_resamp = eye_df_resamp.append(resamp_samps)\n",
    "    \n",
    "    print 'Done!\\n'"
   ]
  },
  {
   "cell_type": "code",
   "execution_count": 122,
   "metadata": {},
   "outputs": [],
   "source": [
    "# save data\n",
    "eye_df.to_pickle('pupil_size_df.pkl')\n",
    "\n",
    "# save data\n",
    "eye_df_resamp.to_pickle('pupil_size_df_resamp.pkl')"
   ]
  },
  {
   "cell_type": "code",
   "execution_count": 123,
   "metadata": {},
   "outputs": [],
   "source": [
    "# read data\n",
    "eye_df_resamp = pd.read_pickle('pupil_size_df_resamp.pkl')"
   ]
  },
  {
   "cell_type": "code",
   "execution_count": 124,
   "metadata": {},
   "outputs": [],
   "source": [
    "# aggregate data\n",
    "agg_pups = pd.pivot_table(eye_df, index=['subject_nr','trial_id'], \n",
    "                          values=['pup_deblink_rm_smooth_interp'], aggfunc=np.mean).reset_index()"
   ]
  },
  {
   "cell_type": "markdown",
   "metadata": {},
   "source": [
    "# Combine with RT and Fixation Data"
   ]
  },
  {
   "cell_type": "code",
   "execution_count": 125,
   "metadata": {},
   "outputs": [],
   "source": [
    "# read rt and fixation data\n",
    "res = pd.read_csv('rt_and_fixation_data.csv')"
   ]
  },
  {
   "cell_type": "code",
   "execution_count": 126,
   "metadata": {},
   "outputs": [],
   "source": [
    "res = res.merge(agg_pups, on=['subject_nr','trial_id'], how='left')"
   ]
  },
  {
   "cell_type": "markdown",
   "metadata": {},
   "source": [
    "## Clean up trials"
   ]
  },
  {
   "cell_type": "code",
   "execution_count": 127,
   "metadata": {},
   "outputs": [],
   "source": [
    "# no pupil acquired\n",
    "res = res[~res.pup_deblink_rm_smooth_interp.isna()]"
   ]
  },
  {
   "cell_type": "code",
   "execution_count": 128,
   "metadata": {},
   "outputs": [
    {
     "name": "stdout",
     "output_type": "stream",
     "text": [
      "0.0269945631559\n"
     ]
    }
   ],
   "source": [
    "# tracking loss\n",
    "res['low_tracking_ratio'] = res.tracking_loss.apply(lambda x: 1 if x>.30 else 0)\n",
    "print (float(res.low_tracking_ratio.sum())/len(res))\n",
    "res = res[res.low_tracking_ratio == 0].reset_index(drop=True)"
   ]
  },
  {
   "cell_type": "code",
   "execution_count": 129,
   "metadata": {},
   "outputs": [
    {
     "name": "stdout",
     "output_type": "stream",
     "text": [
      "0.0155935286856\n"
     ]
    }
   ],
   "source": [
    "# rt\n",
    "from scipy.stats import zscore\n",
    "res['zscore_rt'] = res.groupby(['subject_nr']).rt.transform(lambda x : zscore(x))\n",
    "res['extreme_rt'] = res.zscore_rt.apply(lambda x: 1 if (x<-3) or (x>3) else 0)\n",
    "print (float(res.extreme_rt.sum())/len(res))\n",
    "res = res[res.extreme_rt==0].reset_index(drop=True)"
   ]
  },
  {
   "cell_type": "code",
   "execution_count": 130,
   "metadata": {},
   "outputs": [
    {
     "name": "stdout",
     "output_type": "stream",
     "text": [
      "0.00402613688865\n"
     ]
    }
   ],
   "source": [
    "# extreme pupil size\n",
    "res['zscore_pup'] = res.groupby(['subject_nr']).pup_deblink_rm_smooth_interp.transform(lambda x : zscore(x))\n",
    "res['extreme_pup'] = res.zscore_pup.apply(lambda x: 1 if (x<-3) or (x>3) else 0)\n",
    "print (float(res.extreme_pup.sum())/len(res))\n",
    "res = res[res.extreme_pup==0].reset_index(drop=True)"
   ]
  },
  {
   "cell_type": "code",
   "execution_count": 131,
   "metadata": {
    "scrolled": true
   },
   "outputs": [
    {
     "data": {
      "text/plain": [
       "subject_nr\n",
       "0     0.916667\n",
       "1     0.987500\n",
       "2     0.966667\n",
       "3     0.983333\n",
       "5     0.970833\n",
       "6     0.966667\n",
       "8     0.987500\n",
       "9     0.970833\n",
       "10    0.989583\n",
       "12    0.979167\n",
       "13    0.925000\n",
       "14    0.975000\n",
       "16    0.852083\n",
       "17    0.985417\n",
       "18    0.937500\n",
       "19    0.941667\n",
       "20    0.964583\n",
       "21    0.981250\n",
       "22    0.937500\n",
       "23    0.983333\n",
       "24    0.852083\n",
       "26    0.970833\n",
       "27    0.868750\n",
       "28    0.979167\n",
       "29    0.970833\n",
       "30    0.972917\n",
       "31    0.960417\n",
       "33    0.935417\n",
       "34    0.970833\n",
       "35    0.904167\n",
       "37    0.989583\n",
       "38    0.983333\n",
       "41    0.877083\n",
       "Name: rt, dtype: float64"
      ]
     },
     "execution_count": 131,
     "metadata": {},
     "output_type": "execute_result"
    }
   ],
   "source": [
    "# percentage of trials\n",
    "res.groupby('subject_nr').rt.count()/480"
   ]
  },
  {
   "cell_type": "code",
   "execution_count": 132,
   "metadata": {
    "scrolled": true
   },
   "outputs": [
    {
     "data": {
      "text/plain": [
       "subject_nr\n",
       "0     0.990909\n",
       "1     0.930380\n",
       "2     0.943966\n",
       "3     0.959746\n",
       "5     0.989270\n",
       "6     0.976293\n",
       "8     0.991561\n",
       "9     0.920601\n",
       "10    0.995789\n",
       "12    0.963830\n",
       "13    0.984234\n",
       "14    0.982906\n",
       "16    0.980440\n",
       "17    0.991543\n",
       "18    0.933333\n",
       "19    0.977876\n",
       "20    0.982721\n",
       "21    0.987261\n",
       "22    0.924444\n",
       "23    0.995763\n",
       "24    0.968215\n",
       "26    0.965665\n",
       "27    0.923261\n",
       "28    0.963830\n",
       "29    0.993562\n",
       "30    0.974304\n",
       "31    0.986985\n",
       "33    0.984410\n",
       "34    0.939914\n",
       "35    0.976959\n",
       "37    0.991579\n",
       "38    0.978814\n",
       "41    0.995249\n",
       "Name: correct, dtype: float64"
      ]
     },
     "execution_count": 132,
     "metadata": {},
     "output_type": "execute_result"
    }
   ],
   "source": [
    "# subject level accuracy\n",
    "res.groupby('subject_nr').correct.mean()"
   ]
  },
  {
   "cell_type": "code",
   "execution_count": 133,
   "metadata": {},
   "outputs": [
    {
     "data": {
      "text/plain": [
       "0.04734848484848486"
      ]
     },
     "execution_count": 133,
     "metadata": {},
     "output_type": "execute_result"
    }
   ],
   "source": [
    "1-float(len(res))/len(pd.read_csv('rt_and_fixation_data.csv'))"
   ]
  },
  {
   "cell_type": "code",
   "execution_count": 134,
   "metadata": {},
   "outputs": [],
   "source": [
    "res.to_csv('data.csv',index=False)"
   ]
  },
  {
   "cell_type": "code",
   "execution_count": null,
   "metadata": {},
   "outputs": [],
   "source": []
  },
  {
   "cell_type": "code",
   "execution_count": null,
   "metadata": {},
   "outputs": [],
   "source": []
  },
  {
   "cell_type": "code",
   "execution_count": null,
   "metadata": {},
   "outputs": [],
   "source": []
  },
  {
   "cell_type": "code",
   "execution_count": null,
   "metadata": {},
   "outputs": [],
   "source": []
  },
  {
   "cell_type": "code",
   "execution_count": 135,
   "metadata": {},
   "outputs": [
    {
     "data": {
      "image/png": "[encoded data removed]",
      "text/plain": [
       "<Figure size 2160x360 with 5 Axes>"
      ]
     },
     "metadata": {},
     "output_type": "display_data"
    }
   ],
   "source": [
    "# simple visualization\n",
    "trialnr = 12\n",
    "\n",
    "fig, axs = plt.subplots(ncols=5, sharex=True, sharey=True, figsize=(30, 5))\n",
    "sns.scatterplot(x='onset_aligned', y='pup', data=extracted_samps[extracted_samps.trial_id==trialnr], ax=axs[0], s=5,linewidth=0)\n",
    "sns.scatterplot(x='onset_aligned', y='pup_deblink_rm', data=rm_samps[rm_samps.trial_id==trialnr], ax=axs[1],s=5,linewidth=0)\n",
    "sns.scatterplot(x='onset_aligned', y='pup_deblink_rm_smooth', data=smooth_samps[smooth_samps.trial_id==trialnr], ax=axs[2],s=5,linewidth=0)\n",
    "sns.scatterplot(x='onset_aligned', y='pup_deblink_rm_smooth_interp', data=interp_samps[interp_samps.trial_id==trialnr], ax=axs[3], s=5,linewidth=0)\n",
    "sns.scatterplot(x='onset_aligned', y='pup_deblink_rm_smooth_interp_resamp', data=resamp_samps[resamp_samps.trial_id==trialnr], ax=axs[4], s=5,linewidth=0)\n",
    "\n",
    "axs[0].title.set_text('Raw Data')\n",
    "axs[1].title.set_text('Deblink')\n",
    "axs[2].title.set_text('Smoothing')\n",
    "axs[3].title.set_text('Interpolation')\n",
    "axs[4].title.set_text('Downsampling')"
   ]
  }
 ],
 "metadata": {
  "interpreter": {
   "hash": "f7291e4b392a32fbfa525b87d1bbd0a3d888adf3d0deca0c205c61b9e7284b82"
  },
  "kernelspec": {
   "display_name": "Python 3.6.6 64-bit",
   "name": "python3"
  },
  "language_info": {
   "codemirror_mode": {
    "name": "ipython",
    "version": 3
   },
   "file_extension": ".py",
   "mimetype": "text/x-python",
   "name": "python",
   "nbconvert_exporter": "python",
   "pygments_lexer": "ipython3",
   "version": "3.6.6"
  }
 },
 "nbformat": 4,
 "nbformat_minor": 2
}
